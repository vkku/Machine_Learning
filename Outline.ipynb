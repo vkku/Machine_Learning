{
 "cells": [
  {
   "cell_type": "markdown",
   "metadata": {
    "duration": "20 minutes"
   },
   "source": [
    "# Machine Learning with scikit-learn"
   ]
  },
  {
   "cell_type": "markdown",
   "metadata": {
    "duration": "20 minutes"
   },
   "source": [
    "## Resources\n",
    "\n",
    "This training material is available under a CC BY-NC-SA 4.0 license.  You can find it at:\n",
    "\n",
    "> https://github.com/DavidMertz/ML-Webinar\n",
    "\n",
    "Before attending this course, please configure the environments you will need.  Within the repository, find the file `requirements.txt` to install software using `pip`, or the file `environment.yml` to install software using `conda`.\n",
    "\n",
    "Please contact me and my training company, [KDM Training](http://kdm.training) for hands-on, instructor-led, onsite or remote, training.  Our email is info@kdm.training."
   ]
  },
  {
   "cell_type": "markdown",
   "metadata": {},
   "source": [
    "## What Is Machine Learning?\n",
    "\n",
    "\n",
    "* Difference between \"Deep Learning\" and other ML techniques\n",
    "* Overview of techniques used in Machine Learning\n",
    "* Classification vs. Regression vs. Clustering\n",
    "* Dimensionality Reduction\n",
    "* Feature Engineering\n",
    "* Feature Selection\n",
    "* Categorical vs. Ordinal vs. Continuous variables\n",
    "* One-hot encoding\n",
    "* Hyperparameters\n",
    "* Grid Search\n",
    "* Metrics\n",
    "\n",
    "<div><a href=\"WhatIsML.ipynb\"><img src=\"img/open-notebook.png\" align=\"left\"/></a></div>"
   ]
  },
  {
   "cell_type": "markdown",
   "metadata": {},
   "source": [
    "## Exploring a Data Set\n",
    "\n",
    "* Looking for anomalies and data integrity problems\n",
    "* Cleaning data\n",
    "* Massaging data format to be model-ready\n",
    "* Choosing features and a target\n",
    "* Train/test split\n",
    "\n",
    "<div><a href=\"Exploring.ipynb\"><img src=\"img/open-notebook.png\" align=\"left\"/></a></div>"
   ]
  },
  {
   "cell_type": "markdown",
   "metadata": {},
   "source": [
    "## Classification\n",
    "\n",
    "* Choosing a model\n",
    "* Feature importances\n",
    "* Cut points in a decision tree\n",
    "* Comparing multiple classifiers\n",
    "\n",
    "<div><a href=\"Classification.ipynb\"><img src=\"img/open-notebook.png\" align=\"left\"/></a></div>"
   ]
  },
  {
   "cell_type": "markdown",
   "metadata": {},
   "source": [
    "## Regression\n",
    "\n",
    "* Sample data sets in scikit-learn\n",
    "* Linear regressors\n",
    "* Probabilistic regressors\n",
    "* Other regressors\n",
    "\n",
    "<div><a href=\"Regression.ipynb\"><img src=\"img/open-notebook.png\" align=\"left\"/></a></div>"
   ]
  },
  {
   "cell_type": "markdown",
   "metadata": {},
   "source": [
    "## Hyperparameters\n",
    "\n",
    "* Understanding hyperparameters\n",
    "* Manual search of parameter space\n",
    "* GridsearchCV\n",
    "* Attributes of grid search and wrapped model\n",
    "\n",
    "<div><a href=\"Hyperparameters.ipynb\"><img src=\"img/open-notebook.png\" align=\"left\"/></a></div>"
   ]
  },
  {
   "cell_type": "markdown",
   "metadata": {},
   "source": [
    "## Clustering\n",
    "\n",
    "* Overview of (some) clustering algorithms\n",
    "* Kmeans clustering\n",
    "* Agglomerative clustering\n",
    "* Density based clustering: DBSan and HDBScan\n",
    "* n_clusters, labels, and predictions\n",
    "* Visualizing results\n",
    "\n",
    "<div><a href=\"Clustering.ipynb\"><img src=\"img/open-notebook.png\" align=\"left\"/></a></div>"
   ]
  },
  {
   "cell_type": "markdown",
   "metadata": {},
   "source": [
    "## Decomposition\n",
    "* Principal Component Analysis (PCA)\n",
    "* Non-Negative Matrix Factorization (NMF)\n",
    "* Latent Dirichlet Allocation (LDA)\n",
    "* Independent component analysis (ICA)\n",
    "\n",
    "<div><a href=\"Decomposition.ipynb\"><img src=\"img/open-notebook.png\" align=\"left\"/></a></div>"
   ]
  },
  {
   "cell_type": "markdown",
   "metadata": {},
   "source": [
    "## Feature Expansion\n",
    "\n",
    "* A Synthetic Example\n",
    "* Polynomial Features\n",
    "* One-Hot Encoding\n",
    "* Binning Values\n",
    "\n",
    "<div><a href=\"FeatureExpansion.ipynb\"><img src=\"img/open-notebook.png\" align=\"left\"/></a></div>"
   ]
  },
  {
   "cell_type": "markdown",
   "metadata": {},
   "source": [
    "## Feature Selection\n",
    "\n",
    "* Scaling with:\n",
    "  * StandardScaler\n",
    "  * RobustScaler\n",
    "  * MinMaxScaler\n",
    "  * Normalizer\n",
    "* Univariate Selection\n",
    "* Model-driven Selection\n",
    "\n",
    "<div><a href=\"FeatureSelection.ipynb\"><img src=\"img/open-notebook.png\" align=\"left\"/></a></div>"
   ]
  },
  {
   "cell_type": "markdown",
   "metadata": {},
   "source": [
    "## Pipelines\n",
    "\n",
    "* Feature Selection and Engineering\n",
    "* Grid search\n",
    "* Model\n",
    "\n",
    "<div><a href=\"Pipelines.ipynb\"><img src=\"img/open-notebook.png\" align=\"left\"/></a></div>"
   ]
  },
  {
   "cell_type": "markdown",
   "metadata": {},
   "source": [
    "## Robust Train/Test Splits \n",
    "\n",
    "* cross_val_score\n",
    "* ShuffleSplit\n",
    "* KFold, RepeatedKFold, LeaveOneOut, LeavePOut, StratifiedKFold\n",
    "\n",
    "<div><a href=\"TrainTest.ipynb\"><img src=\"img/open-notebook.png\" align=\"left\"/></a></div>"
   ]
  },
  {
   "cell_type": "markdown",
   "metadata": {},
   "source": [
    "## Specialized and custom metrics\n",
    "\n",
    "* Top N recommendations\n",
    "\n",
    "<div><a href=\"CustomMetrics.ipynb\"><img src=\"img/open-notebook.png\" align=\"left\"/></a></div>"
   ]
  },
  {
   "cell_type": "markdown",
   "metadata": {},
   "source": [
    "## Feature extraction techniques for textual data\n",
    "\n",
    "* Bag of words\n",
    "\n",
    "<div><a href=\"TextExtraction.ipynb\"><img src=\"img/open-notebook.png\" align=\"left\"/></a></div>"
   ]
  },
  {
   "cell_type": "markdown",
   "metadata": {},
   "source": [
    "## Value imputation\n",
    "\n",
    "*\n",
    "\n",
    "<div><a href=\"Imputation.ipynb\"><img src=\"img/open-notebook.png\" align=\"left\"/></a></div>"
   ]
  }
 ],
 "metadata": {
  "kernelspec": {
   "display_name": "Python 3",
   "language": "python",
   "name": "python3"
  },
  "language_info": {
   "codemirror_mode": {
    "name": "ipython",
    "version": 3
   },
   "file_extension": ".py",
   "mimetype": "text/x-python",
   "name": "python",
   "nbconvert_exporter": "python",
   "pygments_lexer": "ipython3",
   "version": "3.7.4"
  }
 },
 "nbformat": 4,
 "nbformat_minor": 4
}
